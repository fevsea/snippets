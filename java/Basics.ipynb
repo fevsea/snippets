{
 "cells": [
  {
   "cell_type": "markdown",
   "metadata": {},
   "source": [
    "# Basics"
   ]
  },
  {
   "cell_type": "markdown",
   "metadata": {},
   "source": [
    "## Variables\n",
    "\n",
    "Case-sensitive\n",
    "\n",
    "First char a character, subsequent char, number, $, _\n"
   ]
  },
  {
   "cell_type": "markdown",
   "metadata": {},
   "source": [
    "### Kind of variable:\n",
    "\n",
    "* _Instance Variables (Non-Static Fields)_ -> Insatance-related variable\n",
    "* _Class Variable (Static field)_ -> class-related variable\n",
    "* _Local Variable_ -> Method-related variable\n",
    "* _Parameter_ -> Variable in the declaration of a function, class...\n",
    "* _Argument_ -> Actual value passe to a function (parameter)"
   ]
  },
  {
   "cell_type": "markdown",
   "metadata": {},
   "source": [
    "### Primiive data types\n",
    "\n",
    "``` Groovy\n",
    "byte    // 8-bit signed [-128, 127]\n",
    "short   // 16-bit signed [-32.768, 32.767]\n",
    "int     // 32-bit signed\n",
    "long    // 64-bit signed\n",
    "float   // 32-bit floating point (rarely used)\n",
    "double  // 64-bit double precission. Never for precise stuff -> BigDecimal)\n",
    "boolean // Represents one bit of information -> true false\n",
    "char    // 16-bit Unicode character\n",
    "\n",
    "String  // Inmutable array-like character Data Type\n",
    "```"
   ]
  },
  {
   "cell_type": "markdown",
   "metadata": {},
   "source": [
    "## Literals\n",
    "\n",
    "Source code representation of a fixed value.\n",
    "\n",
    "``` Groovy\n",
    "26       // Decimal literal\n",
    "0x1a     // Hdxadecimal literal\n",
    "0b11010  // Binary literal\n",
    "\n",
    "123.4   // Double literal (implicit)\n",
    "123.4d  // Double literla [bad style]\n",
    "1.234e2 // Scientific notation, Double\n",
    "123.4f  // Float literal\n",
    "```\n",
    "\n",
    "Underscore can be used as literal separato\n",
    "Never at a beginning or end of a number, or near a nonnumber symbol\n",
    "\n",
    "``` Groovy\n",
    "12_111_111f  // Valid example\n",
    "```"
   ]
  },
  {
   "cell_type": "markdown",
   "metadata": {},
   "source": [
    "## Default values\n",
    "Unitialized fields got a default value by the compiler, usually 0.\n",
    "Do __not__ rellay on it-"
   ]
  },
  {
   "cell_type": "code",
   "execution_count": null,
   "metadata": {},
   "outputs": [],
   "source": []
  },
  {
   "cell_type": "markdown",
   "metadata": {},
   "source": [
    "# Operator preference\n",
    "\n",
    "| Operator level                          |                      |\n",
    "|-----------------------------------------|----------------------|\n",
    "| = += -+ *= /= %= &amp;= ^= &#124;= &lt;&lt;= | assignment           |\n",
    "| expr++ expr--                           | postfix              |\n",
    "| ++expr --expr +expr -expr ~ !           | unary                |\n",
    "| * / %                                   | multiplicative       |\n",
    "| + -                                     | additive             |\n",
    "| &lt;&lt; &gt;&gt; &gt;&gt;&gt;          | shift                |\n",
    "| &lt; &gt; &lt;= &gt;= instanceof        | relational           |\n",
    "| == !=                                   | equality             |\n",
    "| &amp;                                   | bitwise AND          |\n",
    "| ^                                       | bitwise OR           |\n",
    "| &#124;                                       | bitwise exclusive OR |\n",
    "| &amp;&amp;                              | logical AND          |\n",
    "| &#124;&#124;                                      | logical OR           |\n",
    "| ? :                                     | logical OR           |"
   ]
  },
  {
   "cell_type": "markdown",
   "metadata": {},
   "source": [
    "# Modifiers\n",
    "## Acces levels\n",
    "\n",
    "| Modifier      | Class | Package Subclass | World |   |    |\n",
    "|---------------|-------|------------------|-------|---|----|\n",
    "| public        | Y     | Y                | Y     | Y |    |\n",
    "| protected     | Y     | Y                | Y     | N |    |\n",
    "| no modifier Y | Y     | N                | N     | N | // |\n",
    "| private       | Y     | N                | N     | N |    |\n",
    "\n",
    "\n",
    "A class (top level) can be public or package-privative\n",
    "At a member level all acces levels are possible\n",
    "\n",
    "\n",
    "`static`   modifier is used to design a class-level field\n",
    "\n",
    "`final`    modifiers marks a variable that does not change\n",
    "a final method cannot be overrided (usefull during instance initialization)\n"
   ]
  },
  {
   "cell_type": "markdown",
   "metadata": {},
   "source": [
    "# Methods\n",
    "``` java\n",
    "modifiers returnType setName(typeA nameA, typeB nameB) {\n",
    "}\n",
    "```\n",
    "\n",
    "# Overloading\n",
    "Java has method overloading\n",
    "\n",
    "The compiler does not consider return type when differentiating methods\n",
    "\n",
    " Constructors can be overloaded\n",
    "\n",
    "``` java\n",
    "public void draw(String s) {\n",
    "  ...\n",
    "}\n",
    "\n",
    "public void draw(int i) {\n",
    "  ...\n",
    "}\n",
    "```\n",
    "\n",
    "## Arguments \n",
    "\n",
    "Arbitrary number of arguments:\n",
    "``` java\n",
    "public PrintStream printf(String format, Object... args);\n",
    "```\n",
    "args is accesed like an array of object\n",
    "\n",
    "\n",
    "Primitive arguments (int, float...) are passed into methods by value\n",
    "\n",
    "Objects (position) are also passed by value.\n",
    "\n",
    "\n",
    "## Returns\n",
    "If the function does not return nothing, a final return is opcional\n",
    "\n",
    "If a function declares a return type, always have to retun something\n",
    "\n",
    "```  java\n",
    "return;\n",
    "```\n",
    "\n",
    "If the return type is a class, an object of this class of any subclass\n",
    "\n",
    "should be returned -> Covariant return type\n",
    "\n",
    "\n",
    "## this\n",
    "This keyword can be used within a method or Constructor to refernce the current object\n",
    "\n",
    "``` java\n",
    "this\n",
    "```\n",
    "Inside a constructor can be used as a call to other constrructor in the same Class\n",
    "``` java\n",
    "this(other_constructor_arguments);\n",
    "```"
   ]
  },
  {
   "cell_type": "code",
   "execution_count": null,
   "metadata": {},
   "outputs": [],
   "source": []
  },
  {
   "cell_type": "code",
   "execution_count": null,
   "metadata": {},
   "outputs": [],
   "source": []
  }
 ],
 "metadata": {
  "kernelspec": {
   "display_name": "Python 3",
   "language": "python",
   "name": "python3"
  },
  "language_info": {
   "codemirror_mode": {
    "name": "ipython",
    "version": 3
   },
   "file_extension": ".py",
   "mimetype": "text/x-python",
   "name": "python",
   "nbconvert_exporter": "python",
   "pygments_lexer": "ipython3",
   "version": "3.6.3"
  }
 },
 "nbformat": 4,
 "nbformat_minor": 2
}
