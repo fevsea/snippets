{
 "cells": [
  {
   "cell_type": "markdown",
   "metadata": {},
   "source": [
    "# Statements Expressions\n",
    "\n",
    "A construct made up of variables, operatos and method invocation that evaluates to a single value.\n",
    "\n",
    "**Statements**:\n",
    "Complete unite of execution ~ a line ending with ;\n",
    "We can differenciate expression statements (assignments, invocations, instantiations...), declaration statements, control flow statements...\n",
    "\n",
    "**Blocks**:\n",
    "A group of zero or more statements between balanced braces that can be used anywhere a single statements is allowed."
   ]
  },
  {
   "cell_type": "markdown",
   "metadata": {},
   "source": [
    "# Control flow statements\n",
    "\n",
    "Blocks optionals if only need one statement."
   ]
  },
  {
   "cell_type": "markdown",
   "metadata": {},
   "source": [
    "## if-elif-else\n",
    "\n",
    "``` java\n",
    "if (boolean_statementA) {\n",
    "  pass();\n",
    "} else if (boolean_statementB) {\n",
    "  pass();\n",
    "} else {\n",
    "  pass();\n",
    "}\n",
    "```"
   ]
  },
  {
   "cell_type": "markdown",
   "metadata": {},
   "source": [
    "## switch\n",
    "\n",
    "Works with byte, shsort, char, int, String and enumerated types\n",
    "\n",
    "lways test if vatiable is null\n",
    "\n",
    "``` java\n",
    "switch (variable){\n",
    "  case value_1: pass();\n",
    "                pass();\n",
    "                break;\n",
    "  case value_2: case value_3:\n",
    "  case value_4:\n",
    "        pass();\n",
    "        pass();\n",
    "        break;\n",
    "  default: break;\n",
    "}\n",
    "```"
   ]
  },
  {
   "cell_type": "markdown",
   "metadata": {},
   "source": [
    "## while\n",
    "\n",
    "``` java\n",
    "while (condition) {\n",
    "  statement(s);\n",
    "}\n",
    "```"
   ]
  },
  {
   "cell_type": "markdown",
   "metadata": {},
   "source": [
    "## do while\n",
    "\n",
    "``` java\n",
    "do {\n",
    "  statemen(s);\n",
    "} while (expression);\n",
    "```"
   ]
  },
  {
   "cell_type": "markdown",
   "metadata": {},
   "source": [
    "## for\n",
    "\n",
    "All 3 expresions are optional\n",
    "\n",
    "``` java\n",
    "for (initialization; termination; incremant) {\n",
    "  statement(s);\n",
    "}\n",
    "```\n",
    "\n",
    "for collections and Arrays (use whenever possible)\n",
    "\n",
    "``` java\n",
    "for (T item : array) {\n",
    "  process(item);\n",
    "}\n",
    "```"
   ]
  },
  {
   "cell_type": "markdown",
   "metadata": {},
   "source": [
    "## Branching Statements\n",
    "\n",
    "for, while, do-while, switch\n",
    "\n",
    "**Unlabeled break**:\n",
    "``` java\n",
    "break; // terminates the innermost statement\n",
    "```\n",
    "\n",
    "**Unlabeled continue**:\n",
    "``` java\n",
    "continue;  // terminates the current iteration of the innermost statement\n",
    "```\n",
    "\n",
    "**Labeled**:\n",
    "``` java\n",
    "label_name:\n",
    "  iterative_statement {\n",
    "    continue label_name;\n",
    "    break label_name;\n",
    "  }\n",
    "```"
   ]
  },
  {
   "cell_type": "markdown",
   "metadata": {},
   "source": [
    "# Conditional assignment (or operation)\n",
    "``` java\n",
    "someBool ? doSomethingTrue() : doSomethingElseFalse();\n",
    "var = condition ? valueTrue : valueFalse;\n",
    "```"
   ]
  },
  {
   "cell_type": "code",
   "execution_count": null,
   "metadata": {},
   "outputs": [],
   "source": []
  }
 ],
 "metadata": {
  "kernelspec": {
   "display_name": "Bash",
   "language": "bash",
   "name": "bash"
  },
  "language_info": {
   "codemirror_mode": "shell",
   "file_extension": ".sh",
   "mimetype": "text/x-sh",
   "name": "bash"
  }
 },
 "nbformat": 4,
 "nbformat_minor": 2
}
