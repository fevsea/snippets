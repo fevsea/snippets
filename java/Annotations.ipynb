{
 "cells": [
  {
   "cell_type": "markdown",
   "metadata": {},
   "source": [
    "# Annotations\n",
    "\n",
    "Are a form of metadata. Anotations do not have any direct effect on the code, but can be used for:\n",
    "- **Information for the compiler**: Detect errors, supress warnings...\n",
    "- **Compile-time and deployment-time processing**: Basically for external software)\n",
    "- **Runtime processing**: Some annotations are available to be examined at runtime."
   ]
  },
  {
   "cell_type": "markdown",
   "metadata": {},
   "source": [
    "## Format examples\n",
    "\n",
    "Annotations istarts with an **@**\n",
    "We can use more than one type of anotation at a type and more than once.\n",
    "\n",
    "``` java\n",
    "@Override\n",
    "\n",
    "@Author(\n",
    "   name = \"Benjamin Franklin\",\n",
    "   date = \"3/27/2003\"\n",
    ")\n",
    "\n",
    "@SuppressWarnings(value = \"unchecked\")\n",
    "\n",
    "@SuppressWarnings(\"unchecked\")  // If there are onlyu on named value\n",
    "\n",
    "```"
   ]
  },
  {
   "cell_type": "markdown",
   "metadata": {},
   "source": [
    "## Where can be used\n",
    "\n",
    "\n",
    "* Class instance creation expression:\n",
    "\n",
    "``` java\n",
    "    new @Interned MyObject();\n",
    "```\n",
    "* Type cast:\n",
    "\n",
    "``` java\n",
    "    myString = (@NonNull String) str;\n",
    "```\n",
    "* Implements clause:\n",
    "\n",
    "``` java\n",
    "    class UnmodifiableList<T> implements\n",
    "        @Readonly List<@Readonly T> { ... }\n",
    "```\n",
    "* Thrown exception declaration:\n",
    "\n",
    "``` java\n",
    "    void monitorTemperature() throws\n",
    "        @Critical TemperatureException { ... }\n",
    "```\n"
   ]
  },
  {
   "cell_type": "markdown",
   "metadata": {},
   "source": [
    "## Usefull annotations\n",
    "\n",
    "### @Deprecated\n",
    "The compiler will generate a warning if someone uses a @Deprecated method\n",
    "\n",
    "### @Override\n",
    "When ovirriding a method, if @Override is present, and we are actually not overriding anithing, the compiler will genera a warning.\n",
    "\n",
    "### @SupressWarnings\n",
    "If used like `@SuppressWarnings({\"unchecked\", \"deprecation\"})`, the compuler won't show those warnings. If we only want to avoid one type, we can just pass an string."
   ]
  },
  {
   "cell_type": "code",
   "execution_count": null,
   "metadata": {},
   "outputs": [],
   "source": []
  },
  {
   "cell_type": "code",
   "execution_count": null,
   "metadata": {},
   "outputs": [],
   "source": []
  },
  {
   "cell_type": "code",
   "execution_count": null,
   "metadata": {},
   "outputs": [],
   "source": []
  },
  {
   "cell_type": "code",
   "execution_count": null,
   "metadata": {},
   "outputs": [],
   "source": []
  },
  {
   "cell_type": "code",
   "execution_count": null,
   "metadata": {},
   "outputs": [],
   "source": []
  },
  {
   "cell_type": "code",
   "execution_count": null,
   "metadata": {},
   "outputs": [],
   "source": []
  }
 ],
 "metadata": {
  "kernelspec": {
   "display_name": "Bash",
   "language": "bash",
   "name": "bash"
  },
  "language_info": {
   "codemirror_mode": "shell",
   "file_extension": ".sh",
   "mimetype": "text/x-sh",
   "name": "bash"
  }
 },
 "nbformat": 4,
 "nbformat_minor": 2
}
